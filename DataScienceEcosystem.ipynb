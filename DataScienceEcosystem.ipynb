{
 "cells": [
  {
   "cell_type": "markdown",
   "id": "852528ba",
   "metadata": {},
   "source": [
    "# Data Science Tools and Ecosystem"
   ]
  },
  {
   "cell_type": "markdown",
   "id": "2f018f12",
   "metadata": {},
   "source": [
    "In this notebook, Data Science Tools and Ecosystem are summarized "
   ]
  },
  {
   "cell_type": "markdown",
   "id": "6cfde68c",
   "metadata": {},
   "source": [
    "Some of the popular languages that Data Scientists use are:\n",
    "1. Python\n",
    "2. R\n",
    "3. SQL"
   ]
  },
  {
   "cell_type": "markdown",
   "id": "25b22650",
   "metadata": {},
   "source": [
    "Some of the commonly used libraries used by Data Scientists include:\n",
    "1. Panda\n",
    "2. NumPy\n",
    "3. Matplotlib etc"
   ]
  },
  {
   "cell_type": "markdown",
   "id": "e39fdc59",
   "metadata": {},
   "source": [
    "Data Science Tools\n",
    "| Name | Environment |\n",
    "|------|-------------|\n",
    "|Python | JupytorNoteBook|\n",
    "|R | R-Studio |"
   ]
  },
  {
   "cell_type": "markdown",
   "id": "ea671740",
   "metadata": {},
   "source": [
    "### Below are a few examples of evaluating arithmetic expressions in Python\n"
   ]
  },
  {
   "cell_type": "code",
   "execution_count": 1,
   "id": "3236b5c3",
   "metadata": {},
   "outputs": [
    {
     "data": {
      "text/plain": [
       "17"
      ]
     },
     "execution_count": 1,
     "metadata": {},
     "output_type": "execute_result"
    }
   ],
   "source": [
    "(3*4)+5\n",
    "#This is the simple arithmetic expression to multiply then add integers."
   ]
  },
  {
   "cell_type": "code",
   "execution_count": 4,
   "id": "bd304d6b",
   "metadata": {},
   "outputs": [
    {
     "name": "stdout",
     "output_type": "stream",
     "text": [
      "3.3333333333333335\n"
     ]
    }
   ],
   "source": [
    "#This will convert 200 minutes to hours by diving by 60\n",
    "TotalMinutes = 200\n",
    "MinutesIN_1_Hour = 60\n",
    "print(TotalMinutes/MinutesIN_1_Hour)\n"
   ]
  },
  {
   "cell_type": "markdown",
   "id": "12e012cb",
   "metadata": {},
   "source": [
    "List popular languages for Data Science.\n",
    "+ Python\n",
    "+ R\n",
    "+ Scala\n",
    "+ Julia\n",
    "+ Java \n",
    "+ SQL"
   ]
  },
  {
   "cell_type": "markdown",
   "id": "8e85b506",
   "metadata": {},
   "source": [
    "## Author\n",
    "***M.Zain ul Abideen***"
   ]
  }
 ],
 "metadata": {
  "kernelspec": {
   "display_name": "Python 3",
   "language": "python",
   "name": "python3"
  },
  "language_info": {
   "codemirror_mode": {
    "name": "ipython",
    "version": 3
   },
   "file_extension": ".py",
   "mimetype": "text/x-python",
   "name": "python",
   "nbconvert_exporter": "python",
   "pygments_lexer": "ipython3",
   "version": "3.13.5"
  }
 },
 "nbformat": 4,
 "nbformat_minor": 5
}
